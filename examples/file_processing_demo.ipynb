{
 "cells": [
  {
   "cell_type": "markdown",
   "metadata": {},
   "source": [
    "# File-Processing Library Demo\n",
    "This notebook demonstrates the use of the `file-processing` library to extract metadata and text content from different file types. We'll be working with the `Constitution_Act.pdf` and `Ottawa_1935_Weather.csv` files."
   ]
  },
  {
   "cell_type": "code",
   "execution_count": 1,
   "metadata": {},
   "outputs": [],
   "source": [
    "# Import the File class from the file-processing library\n",
    "from file_processing import File\n",
    "\n",
    "# Use the helper function to get the path to the test files\n",
    "from file_processing_test_data import get_test_files_path\n",
    "\n",
    "# Load the test files\n",
    "test_files_path = get_test_files_path()\n",
    "pdf_file_path = test_files_path / 'Constitution_Act.pdf'\n",
    "csv_file_path = test_files_path / 'Ottawa_1935_Weather.csv'\n",
    "\n",
    "# Initialize File objects for the PDF and CSV files\n",
    "pdf_file = File(str(pdf_file_path))\n",
    "csv_file = File(str(csv_file_path))"
   ]
  },
  {
   "cell_type": "markdown",
   "metadata": {},
   "source": [
    "## PDF File Metadata\n",
    "Let's extract and display some basic metadata from the PDF file, such as the file name, size, owner, and text content."
   ]
  },
  {
   "cell_type": "code",
   "execution_count": 2,
   "metadata": {},
   "outputs": [
    {
     "name": "stdout",
     "output_type": "stream",
     "text": [
      "File Name: Constitution_Act.pdf\n",
      "\n",
      "File Size: 717135 bytes\n",
      "\n",
      "Owner: AD/BCRUSE\n",
      "\n",
      "Text Content: Current to January 1, 2024\n",
      "Published by the Minister of Justice at the following address:\n",
      "http://laws-lois.justice.gc.ca\n",
      "Publié par le ministre de la Justice à l’adresse suivante :\n",
      "http://lois-laws.justice.gc.ca\n",
      "CANADA\n",
      "CODIFICATION\n",
      "LOIS CONSTITUTIONNELLES\n",
      "DE 1867 à 1982\n",
      "CONSOLIDATION\n",
      "THE CONSTITUTION ACTS\n",
      "  1867 to 1982\n",
      "À jour au 1er  janvier 2024THE CONSTITUTION ACTS 1867 to 1982 LOIS CONSTITUTIONNELLES DE 1867 à 1982\n",
      " FOREWORD  AVANT-PROPOS\n",
      "Current to January 1, 2024 ii À jour au 1er janvier 2\n",
      "\n"
     ]
    }
   ],
   "source": [
    "# Print out the metadata\n",
    "print(f\"File Name: {pdf_file.file_name}\\n\")\n",
    "print(f\"File Size: {pdf_file.size} bytes\\n\")\n",
    "print(f\"Owner: {pdf_file.owner}\\n\")\n",
    "print(f\"Text Content: {pdf_file.metadata.get('text', 'No text extracted')[:500]}\\n\")  # Display the first 500 characters of text"
   ]
  },
  {
   "cell_type": "markdown",
   "metadata": {},
   "source": [
    "## CSV File Metadata\n",
    "Now, let's extract and display metadata from the CSV file, such as the encoding, number of rows and columns, and a preview of the content."
   ]
  },
  {
   "cell_type": "code",
   "execution_count": 3,
   "metadata": {},
   "outputs": [
    {
     "name": "stdout",
     "output_type": "stream",
     "text": [
      "CSV File Name: Ottawa_1935_Weather.csv\n",
      "\n",
      "CSV File Size: 52818 bytes\n",
      "\n",
      "CSV Owner: AD/BCRUSE\n",
      "\n",
      "CSV Encoding: UTF-8-SIG\n",
      "\n",
      "Number of Rows: 366\n",
      "\n",
      "Number of Columns: 31\n",
      "\n",
      "Total Cells: 11346\n",
      "\n",
      "Empty Cells: 7652\n",
      "\n",
      "CSV Content Preview:\n",
      "Longitude (x)\",\"Latitude (y)\",\"Station Name\",\"Climate ID\",\"Date/Time\",\"Year\",\"Month\",\"Day\",\"Data Quality\",\"Max Temp (°C)\",\"Max Temp Flag\",\"Min Temp (°C)\",\"Min Temp Flag\",\"Mean Temp (°C)\",\"Mean Temp Flag\",\"Heat Deg Days (°C)\",\"Heat Deg Days Flag\",\"Cool Deg Days (°C)\",\"Cool Deg Days Flag\",\"Total Rain (mm)\",\"Total Rain Flag\",\"Total Snow (cm)\",\"Total Snow Flag\",\"Total Precip (mm)\",\"Total Precip Flag\",\"Snow on Grnd (cm)\",\"Snow on Grnd Flag\",\"Dir of Max Gust (10s deg)\",\"Dir of Max Gust Flag\",\"Spd of Max Gust (km/h)\",\"Spd of Max Gust Flag\n",
      "-75.72\",\"45.40\",\"OTTAWA\",\"6105887\",\"1935-01-01\",\"1935\",\"01\",\"01\",\"\",\"-6.1\",\"\",\"-18.3\",\"\",\"-12.2\",\"\",\"30.2\",\"\",\"0.0\",\"\",\"0.0\",\"\",\"1.0\",\"\",\"1.0\",\"\",\"\",\"\",\"\",\"\",\"\",\"\n",
      "-75.72\",\"45.40\",\"OTTAWA\",\"6105887\",\"1935-01-02\",\"1935\",\"01\",\"02\",\"\",\"-13.9\",\"\",\"-24.4\",\"\",\"-19.2\",\"\",\"37.2\",\"\",\"0.0\",\"\",\"0.0\",\"\",\"3.8\",\"\",\"3.8\",\"\",\"\",\"\",\"\",\"\",\"\",\"\n",
      "-75.72\",\"45.40\",\"OTTAWA\",\"6105887\",\"1935-01-03\",\"1935\",\"01\",\"03\",\"\",\"-12.2\",\"\",\"-17.2\",\"\",\"-14.7\",\"\",\"32.7\",\"\",\"0.0\",\"\",\"0.0\",\"\",\"2.0\",\"\",\"2.0\",\"\",\"\",\"\",\"\",\"\",\"\",\"\n",
      "-75.72\",\"45.40\",\"OTTAWA\",\"6105887\",\"1935-01-04\",\"1935\",\"01\",\"04\",\"\",\"-20.0\",\"\",\"-28.9\",\"\",\"-24.5\",\"\",\"42.5\",\"\",\"0.0\",\"\",\"0.0\",\"\",\"0.0\",\"\",\"0.0\",\"\",\"\",\"\",\"\",\"\",\"\",\"\n",
      "-75.72\",\"45.40\",\"OTTAWA\",\"6105887\",\"1935-01-05\",\"1935\",\"01\",\"05\",\"\",\"0.6\",\"\",\"-25.0\",\"\",\"-12.2\",\"\",\"30.2\",\"\",\"0.0\",\"\",\"0.0\",\"\",\"0.0\",\"\",\"0.0\",\"\",\"\",\"\",\"\",\"\",\"\",\"\n",
      "-75.72\",\"45.40\",\"OTTAWA\",\"6105887\",\"1935-01-06\",\"1935\",\"01\",\"06\",\"\",\"5.0\",\"\",\"-14.4\",\"\",\"-4.7\",\"\",\"22.7\",\"\",\"0.0\",\"\",\"0.3\",\"\",\"0.0\",\"\",\"0.3\",\"\",\"\",\"\",\"\",\"\",\"\",\"\n",
      "-75.72\",\"45.40\",\"OTTAWA\",\"6105887\",\"1935-01-07\",\"1935\",\"01\",\"07\",\"\",\"5.6\",\"\",\"1.7\",\"\",\"3.7\",\"\",\"14.3\",\"\",\"0.0\",\"\",\"7.1\",\"\",\"0.0\",\"\",\"7.1\",\"\",\"\",\"\",\"\",\"\",\"\",\"\n",
      "-75.72\",\"45.40\",\"OTTAWA\",\"6105887\",\"1935-01-08\",\"1935\",\"01\",\"08\",\"\",\"3.9\",\"\",\"1.7\",\"\",\"2.8\",\"\",\"15.2\",\"\",\"0.0\",\"\",\"12.4\",\"\",\"0.0\",\"\",\"12.4\",\"\",\"\",\"\",\"\",\"\",\"\",\"\n",
      "-75.72\",\"45.40\",\"OTTAWA\",\"6105887\",\"1935-01-09\",\"1935\",\"01\",\"09\",\"\",\"1.7\",\"\",\"-2.2\",\"\",\"-0.3\",\"\",\"18.3\",\"\",\"0.0\",\"\",\"2.0\",\"\",\"0.0\",\"\",\"2.0\",\"\",\"\",\"\",\"\",\"\",\"\",\"\n"
     ]
    }
   ],
   "source": [
    "# Print out detailed metadata from the CSV file\n",
    "print(f\"CSV File Name: {csv_file.file_name}\\n\")\n",
    "print(f\"CSV File Size: {csv_file.size} bytes\\n\")\n",
    "print(f\"CSV Owner: {csv_file.owner}\\n\")\n",
    "print(f\"CSV Encoding: {csv_file.metadata.get('encoding', 'Unknown')}\\n\")\n",
    "print(f\"Number of Rows: {csv_file.metadata.get('num_rows', 0)}\\n\")\n",
    "print(f\"Number of Columns: {csv_file.metadata.get('num_cols', 0)}\\n\")\n",
    "print(f\"Total Cells: {csv_file.metadata.get('num_cells', 0)}\\n\")\n",
    "print(f\"Empty Cells: {csv_file.metadata.get('empty_cells', 0)}\")\n",
    "\n",
    "# Preview the first 10 rows of the CSV content\n",
    "csv_preview = csv_file.metadata.get('text', '').split('\\n')[:10]\n",
    "print(\"\\nCSV Content Preview:\")\n",
    "for row in csv_preview:\n",
    "    print(row)"
   ]
  },
  {
   "cell_type": "markdown",
   "metadata": {},
   "source": [
    "# Conclusion\n",
    "In this demo, we initialized `File` objects for both a PDF and a CSV file, extracting and displaying metadata for each. The `file-processing` library provides a unified interface to handle different file types efficiently."
   ]
  }
 ],
 "metadata": {
  "kernelspec": {
   "display_name": ".venv",
   "language": "python",
   "name": "python3"
  },
  "language_info": {
   "codemirror_mode": {
    "name": "ipython",
    "version": 3
   },
   "file_extension": ".py",
   "mimetype": "text/x-python",
   "name": "python",
   "nbconvert_exporter": "python",
   "pygments_lexer": "ipython3",
   "version": "3.10.4"
  }
 },
 "nbformat": 4,
 "nbformat_minor": 2
}
