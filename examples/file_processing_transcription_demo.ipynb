{
 "cells": [
  {
   "cell_type": "markdown",
   "metadata": {},
   "source": [
    "# File-Processing Transcription Demo\n",
    "This notebook demonstrates how to add transcription functionality to `file-processing` using the `file-processing-transcription` library as a plugin. We'll transcribe spoken content from `rights-and-responsibilities.mp3` and `phac_food_safety.mp4`."
   ]
  },
  {
   "cell_type": "code",
   "execution_count": 1,
   "metadata": {},
   "outputs": [],
   "source": [
    "# Import the necessary classes\n",
    "from file_processing import File\n",
    "from file_processing_transcription.transcription_decorator import TranscriptionDecorator\n",
    "\n",
    "# Use the helper function to get the path to the test files\n",
    "from file_processing_test_data import get_test_files_path\n",
    "\n",
    "# Load the test audio and video files\n",
    "test_files_path = get_test_files_path()\n",
    "audio_file_path = test_files_path / 'rights-and-responsibilities.mp3'\n",
    "video_file_path = test_files_path / 'phac_food_safety.mp4'\n",
    "\n",
    "# Initialize File objects for the audio and video files and wrap with TranscriptionDecorator\n",
    "audio_file = TranscriptionDecorator(File(str(audio_file_path)))\n",
    "video_file = TranscriptionDecorator(File(str(video_file_path)))"
   ]
  },
  {
   "cell_type": "markdown",
   "metadata": {},
   "source": [
    "## Applying Transcription to Audio\n",
    "The `TranscriptionDecorator` wraps around the base `File` class from `file-processing`, adding transcription as a plugin. The transcribed text and detected language are stored in the `metadata` dictionary under the keys `transcribed_text` and `transcribed_language`."
   ]
  },
  {
   "cell_type": "code",
   "execution_count": 2,
   "metadata": {},
   "outputs": [
    {
     "name": "stdout",
     "output_type": "stream",
     "text": [
      "Transcription Text from rights-and-responsibilities.mp3 (snippet):\n",
      " Rights and responsibilities of citizenship. Canadian citizens have rights and responsibilities. These come to us from our history, are secured by Canadian law, and reflect our shared traditions, identity, and values. Canadian law has several sources, including laws passed by Parliament, and the provincial legislatures, English-Common law, the civil code of France, and the unwritten constitution that we have inherited from Great Britain. Together, these secure for Canadians and 800-year-old trad...\n",
      "Detected Language: en\n"
     ]
    }
   ],
   "source": [
    "# Process the audio file and extract transcription text\n",
    "audio_file.process()\n",
    "\n",
    "# Access and print a snippet of the transcribed text and the detected language\n",
    "print(f\"Transcription Text from rights-and-responsibilities.mp3 (snippet):\\n{audio_file.metadata.get('transcribed_text', 'No transcription text extracted')[:500]}...\")\n",
    "print(f\"Detected Language: {audio_file.metadata.get('transcribed_language', 'Unknown')}\")"
   ]
  },
  {
   "cell_type": "markdown",
   "metadata": {},
   "source": [
    "## Transcription Text for Video\n",
    "Now, let's apply transcription to the `phac_food_safety.mp4` file and view a snippet of the extracted text and detected language."
   ]
  },
  {
   "cell_type": "code",
   "execution_count": 3,
   "metadata": {},
   "outputs": [
    {
     "name": "stdout",
     "output_type": "stream",
     "text": [
      "Transcription Text from phac_food_safety.mp4 (snippet):\n",
      " Canada is fortunate to enjoy one of the safest food systems in the world. But even with world-class systems to keep our food safe, food-borne illness outbreaks happen from time to time. When they do, your governments work together to respond and to protect you from infection. Responding to a food-borne illness outbreak is a bit like trying to solve a pitcher puzzle, except you only have maybe one or two of the pieces, and you don't even know what the final pitcher is supposed to look like. So i...\n",
      "Detected Language: en\n"
     ]
    }
   ],
   "source": [
    "# Process the video file and extract transcription text\n",
    "video_file.process()\n",
    "\n",
    "# Access and print a snippet of the transcribed text and the detected language\n",
    "print(f\"Transcription Text from phac_food_safety.mp4 (snippet):\\n{video_file.metadata.get('transcribed_text', 'No transcription text extracted')[:500]}...\")\n",
    "print(f\"Detected Language: {video_file.metadata.get('transcribed_language', 'Unknown')}\")"
   ]
  },
  {
   "cell_type": "markdown",
   "metadata": {},
   "source": [
    "# Conclusion\n",
    "In this demo, we used the `file-processing-transcription` library as a plugin to add transcription capabilities to `file-processing`. By wrapping `File` objects with `TranscriptionDecorator`, we can transcribe audio and video files, with the transcribed text and language accessible in the `metadata` dictionary. This plugin approach allows seamless addition of transcription functionality for supported file types."
   ]
  }
 ],
 "metadata": {
  "kernelspec": {
   "display_name": "Python 3",
   "language": "python",
   "name": "python3"
  },
  "language_info": {
   "codemirror_mode": {
    "name": "ipython",
    "version": 3
   },
   "file_extension": ".py",
   "mimetype": "text/x-python",
   "name": "python",
   "nbconvert_exporter": "python",
   "pygments_lexer": "ipython3",
   "version": "3.10.4"
  }
 },
 "nbformat": 4,
 "nbformat_minor": 2
}
