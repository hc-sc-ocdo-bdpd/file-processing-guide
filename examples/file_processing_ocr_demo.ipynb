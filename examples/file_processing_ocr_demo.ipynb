{
 "cells": [
  {
   "cell_type": "markdown",
   "metadata": {},
   "source": [
    "# File-Processing OCR Demo\n",
    "This notebook demonstrates how to use the `file-processing-ocr` library to add OCR functionality to the `file-processing` library as a plugin. We'll apply OCR to extract text from two image files: `Charter_of_Rights_and_Freedoms.jpg` and `Health_Canada_logo.png`."
   ]
  },
  {
   "cell_type": "code",
   "execution_count": 1,
   "metadata": {},
   "outputs": [],
   "source": [
    "# Import the necessary classes\n",
    "from file_processing import File\n",
    "from file_processing_ocr.ocr_decorator import OCRDecorator\n",
    "\n",
    "# Use the helper function to get the path to the test files\n",
    "from file_processing_test_data import get_test_files_path\n",
    "\n",
    "# Load the test image files\n",
    "test_files_path = get_test_files_path()\n",
    "image_file_1_path = test_files_path / 'Charter_of_Rights_and_Freedoms.jpg'\n",
    "image_file_2_path = test_files_path / 'Health_Canada_logo.png'\n",
    "\n",
    "# Initialize File objects for the images and wrap with OCRDecorator\n",
    "image_file_1 = OCRDecorator(File(str(image_file_1_path)))\n",
    "image_file_2 = OCRDecorator(File(str(image_file_2_path)))"
   ]
  },
  {
   "cell_type": "markdown",
   "metadata": {},
   "source": [
    "## Applying OCR to Images\n",
    "The `OCRDecorator` wraps around the base `File` class from `file-processing`, adding OCR functionality as a plugin. The extracted OCR text is stored in the `metadata` dictionary under the key `ocr_text`."
   ]
  },
  {
   "cell_type": "code",
   "execution_count": 2,
   "metadata": {},
   "outputs": [
    {
     "name": "stdout",
     "output_type": "stream",
     "text": [
      "OCR Text from Charter_of_Rights_and_Freedoms.jpg:\n",
      "CANADIAN\n",
      "seasimar—-~ CHARTER OF RIGHTS\n",
      "aitteemee _ AND FREEDOMS\n",
      "\n",
      "‘Sihenteaannivnsnstr ero\n",
      "\n",
      "iredtmety efter\n",
      "Democratic Rights\n",
      "caitueteemsererernndend — Gemeanneenstnnnetdeuties miter iipten ti mama tyenmigihiet nt\n",
      "\n",
      "Minority Language\n",
      "cational Rights\n",
      "\n",
      "Soatienaiatetaerere\n",
      "\n",
      "Enforcement\n",
      "Tepe a et nap Sgn pee\n",
      "\n",
      "General\n",
      "Fe cendeatieeresie scents\n",
      "\n",
      "Citation\n",
      "\n"
     ]
    }
   ],
   "source": [
    "# Process the first image file and extract OCR text\n",
    "image_file_1.process()\n",
    "\n",
    "# Access and print only the OCR text from the metadata dictionary\n",
    "print(f\"OCR Text from Charter_of_Rights_and_Freedoms.jpg:\\n{image_file_1.metadata.get('ocr_text', 'No OCR text extracted')}\")"
   ]
  },
  {
   "cell_type": "markdown",
   "metadata": {},
   "source": [
    "## OCR Text for Second Image\n",
    "Let's apply OCR to the `Health_Canada_logo.png` file and view the extracted text."
   ]
  },
  {
   "cell_type": "code",
   "execution_count": 3,
   "metadata": {},
   "outputs": [
    {
     "name": "stdout",
     "output_type": "stream",
     "text": [
      "OCR Text from Health_Canada_logo.png:\n",
      "Health Sante\n",
      "Canada Canada\n",
      "\n"
     ]
    }
   ],
   "source": [
    "# Process the second image file and extract OCR text\n",
    "image_file_2.process()\n",
    "\n",
    "# Access and print only the OCR text from the metadata dictionary\n",
    "print(f\"OCR Text from Health_Canada_logo.png:\\n{image_file_2.metadata.get('ocr_text', 'No OCR text extracted')}\")"
   ]
  },
  {
   "cell_type": "markdown",
   "metadata": {},
   "source": [
    "# Conclusion\n",
    "In this demo, we used the `file-processing-ocr` library as a plugin to add OCR capabilities to the `file-processing` library. By wrapping `File` objects with `OCRDecorator`, we can extract text from images and access it directly through the `metadata` dictionary under the `ocr_text` key. This plugin approach allows for seamless addition of OCR functionality to supported file types."
   ]
  }
 ],
 "metadata": {
  "kernelspec": {
   "display_name": "Python 3",
   "language": "python",
   "name": "python3"
  },
  "language_info": {
   "codemirror_mode": {
    "name": "ipython",
    "version": 3
   },
   "file_extension": ".py",
   "mimetype": "text/x-python",
   "name": "python",
   "nbconvert_exporter": "python",
   "pygments_lexer": "ipython3",
   "version": "3.10.4"
  }
 },
 "nbformat": 4,
 "nbformat_minor": 2
}
